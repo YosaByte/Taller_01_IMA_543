{
 "cells": [
  {
   "cell_type": "code",
   "execution_count": null,
   "id": "599b253c",
   "metadata": {},
   "outputs": [],
   "source": [
    "path = '/home/cursos/ima543_2025_1/ima543_share/Datasets/FER'"
   ]
  },
  {
   "cell_type": "code",
   "execution_count": null,
   "id": "93aed4cf",
   "metadata": {},
   "outputs": [],
   "source": []
  }
 ],
 "metadata": {
  "kernelspec": {
   "display_name": "IMA543_2025_1",
   "language": "python",
   "name": "python3"
  },
  "language_info": {
   "name": "python",
   "version": "3.10.0"
  }
 },
 "nbformat": 4,
 "nbformat_minor": 5
}
